{
 "cells": [
  {
   "cell_type": "markdown",
   "metadata": {},
   "source": [
    "## For CBT.01 only -- add timing files"
   ]
  },
  {
   "cell_type": "code",
   "execution_count": 1,
   "metadata": {},
   "outputs": [],
   "source": [
    "import os\n",
    "import pandas as pd\n",
    "from scipy.io import loadmat\n",
    "import numpy as np"
   ]
  },
  {
   "cell_type": "code",
   "execution_count": 2,
   "metadata": {},
   "outputs": [],
   "source": [
    "data_path = \"/Users/lj146/Documents/CBT/Data/behavioral/\""
   ]
  },
  {
   "cell_type": "markdown",
   "metadata": {},
   "source": [
    "### filter participants"
   ]
  },
  {
   "cell_type": "code",
   "execution_count": 3,
   "metadata": {},
   "outputs": [],
   "source": [
    "participants = []\n",
    "for d in os.listdir(data_path):\n",
    "    if os.path.isdir(os.path.join(data_path, d)) and d.startswith(\"19\") and len(d) == 5:\n",
    "        participants.append(d)"
   ]
  },
  {
   "cell_type": "code",
   "execution_count": 4,
   "metadata": {},
   "outputs": [],
   "source": [
    "def get_feedback_times(filename):\n",
    "    f = loadmat(filename)\n",
    "    trigger_times = f['trigger_feedback_times'].reshape(-1)\n",
    "    strategy_times = f['strategy_feedback_times'].reshape(-1)\n",
    "    return strategy_times[~np.isnan(strategy_times)], trigger_times[~np.isnan(trigger_times)]"
   ]
  },
  {
   "cell_type": "code",
   "execution_count": 5,
   "metadata": {},
   "outputs": [],
   "source": [
    "def write_to_file(filename, times, duration=5, delimiter=\"\\t\"):\n",
    "    with open(filename, \"w\") as f:\n",
    "        for t in times:\n",
    "            f.write(delimiter.join([str(t), str(duration), \"1\"]) + \"\\n\")"
   ]
  },
  {
   "cell_type": "code",
   "execution_count": 6,
   "metadata": {
    "collapsed": true
   },
   "outputs": [
    {
     "name": "stdout",
     "output_type": "stream",
     "text": [
      "###: 19239\n",
      "###: 19338\n",
      "###: 19357\n",
      "###: 19418\n",
      "###: 19425\n",
      "###: 19480\n",
      "###: 19492\n",
      "###: 19497\n",
      "###: 19589\n",
      "###: 19636\n",
      "###: 19658\n",
      "###: 19671\n",
      "###: 19761\n"
     ]
    }
   ],
   "source": [
    "# picked one\n",
    "for par in participants:    \n",
    "    print(\"###: {}\".format(par))\n",
    "    all_files = os.listdir(os.path.join(data_path, par))\n",
    "    for file in all_files:\n",
    "        # useful file\n",
    "        if file.startswith(\"CBT\") and \"run\" in file and \"fixation\" not in file:\n",
    "            # get run number\n",
    "            run = file.split(\"_\")[3].rstrip(\".mat\")\n",
    "            s, t = get_feedback_times(os.path.join(data_path, par, file))\n",
    "            write_to_file(os.path.join(data_path, par, \"timing_files\", \"standard\", \"CBT_train\" + run + \"_STRATEGY_FEEDBACK.txt\"), s)\n",
    "            write_to_file(os.path.join(data_path, par, \"timing_files\", \"standard\", \"CBT_train\" + run + \"_TRIGGER_FEEDBACK.txt\"), t)"
   ]
  },
  {
   "cell_type": "markdown",
   "metadata": {},
   "source": [
    "### because localizers' files didn't record feedback times..."
   ]
  },
  {
   "cell_type": "code",
   "execution_count": 7,
   "metadata": {},
   "outputs": [],
   "source": [
    "def create_feedback_file(filename, filepath, delta=30, duration=5):\n",
    "    df = pd.read_csv(os.path.join(filepath, filename), delimiter='\\t', header=None)\n",
    "    df[0] = df[0].apply(lambda x : x + delta)\n",
    "    assert len(df[1].unique()) == 1\n",
    "    value = df[1].unique()[0]\n",
    "    df[1] = df[1].map({value : duration})\n",
    "    new_file_name = filename[:-4] + \"_FEEDBACK.txt\"\n",
    "    df.to_csv(os.path.join(filepath, new_file_name), sep='\\t', header=None, index=None)"
   ]
  },
  {
   "cell_type": "code",
   "execution_count": 8,
   "metadata": {},
   "outputs": [],
   "source": [
    "for par in participants:    \n",
    "    timing_file_path = os.path.join(data_path, par, \"timing_files\", \"standard\")\n",
    "    for f in os.listdir(timing_file_path):\n",
    "        if \"localizer\" in f and (\"TRIGGER\" in f or \"STRATEGY\" in f):\n",
    "            create_feedback_file(f, timing_file_path)"
   ]
  }
 ],
 "metadata": {
  "kernelspec": {
   "display_name": "Python 3",
   "language": "python",
   "name": "python3"
  },
  "language_info": {
   "codemirror_mode": {
    "name": "ipython",
    "version": 3
   },
   "file_extension": ".py",
   "mimetype": "text/x-python",
   "name": "python",
   "nbconvert_exporter": "python",
   "pygments_lexer": "ipython3",
   "version": "3.6.5"
  }
 },
 "nbformat": 4,
 "nbformat_minor": 2
}
