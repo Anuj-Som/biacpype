{
 "cells": [
  {
   "cell_type": "markdown",
   "metadata": {},
   "source": [
    "## For CBT.01 only -- add timing files"
   ]
  },
  {
   "cell_type": "code",
   "execution_count": 1,
   "metadata": {},
   "outputs": [],
   "source": [
    "import os\n",
    "import pandas as pd"
   ]
  },
  {
   "cell_type": "code",
   "execution_count": 2,
   "metadata": {},
   "outputs": [],
   "source": [
    "data_path = \"/Users/lpjiang/Research/CBT/Data/behavioral/\""
   ]
  },
  {
   "cell_type": "markdown",
   "metadata": {},
   "source": [
    "### filter participants"
   ]
  },
  {
   "cell_type": "code",
   "execution_count": 14,
   "metadata": {},
   "outputs": [],
   "source": [
    "participants = []\n",
    "for d in os.listdir(data_path):\n",
    "    if os.path.isdir(os.path.join(data_path, d)) and d.startswith(\"19\") and len(d) == 5:\n",
    "        participants.append(d)"
   ]
  },
  {
   "cell_type": "code",
   "execution_count": 15,
   "metadata": {},
   "outputs": [],
   "source": [
    "def create_feedback_file(filename, filepath, delta=5, duration=5):\n",
    "    df = pd.read_csv(os.path.join(filepath, filename), delimiter='\\t', header=None)\n",
    "    df[0] = df[0].apply(lambda x : x + delta)\n",
    "    assert len(df[1].unique()) == 1\n",
    "    value = df[1].unique()[0]\n",
    "    df[1] = df[1].map({value : duration})\n",
    "    new_file_name = filename[:-4] + \"_FEEDBACK.txt\"\n",
    "    df.to_csv(os.path.join(filepath, new_file_name), sep='\\t', header=None, index=None)"
   ]
  },
  {
   "cell_type": "code",
   "execution_count": 16,
   "metadata": {},
   "outputs": [],
   "source": [
    "# picked one\n",
    "for par in participants:    \n",
    "    timing_file_path = os.path.join(data_path, par, \"timing_files\", \"standard\")\n",
    "    for f in os.listdir(timing_file_path):\n",
    "        if \"TRIGGER\" in f or \"STRATEGY\" in f:\n",
    "            create_feedback_file(f, timing_file_path)"
   ]
  }
 ],
 "metadata": {
  "kernelspec": {
   "display_name": "Python 3",
   "language": "python",
   "name": "python3"
  },
  "language_info": {
   "codemirror_mode": {
    "name": "ipython",
    "version": 3
   },
   "file_extension": ".py",
   "mimetype": "text/x-python",
   "name": "python",
   "nbconvert_exporter": "python",
   "pygments_lexer": "ipython3",
   "version": "3.6.4"
  }
 },
 "nbformat": 4,
 "nbformat_minor": 2
}
