{
 "cells": [
  {
   "cell_type": "markdown",
   "metadata": {},
   "source": [
    "## For CBT.01 only -- add timing files"
   ]
  },
  {
   "cell_type": "code",
   "execution_count": 19,
   "metadata": {},
   "outputs": [],
   "source": [
    "import os\n",
    "import pandas as pd\n",
    "from scipy.io import loadmat\n",
    "import numpy as np"
   ]
  },
  {
   "cell_type": "code",
   "execution_count": 8,
   "metadata": {},
   "outputs": [],
   "source": [
    "data_path = \"/Volumes/lj146/Documents/CBT/Data/behavioral/\""
   ]
  },
  {
   "cell_type": "code",
   "execution_count": 9,
   "metadata": {},
   "outputs": [],
   "source": [
    "mat_path = os.path.join(data_path, \"19425\", \"CBT_train_run_1.mat\")"
   ]
  },
  {
   "cell_type": "code",
   "execution_count": 10,
   "metadata": {},
   "outputs": [],
   "source": [
    "f = loadmat(mat_path)"
   ]
  },
  {
   "cell_type": "code",
   "execution_count": 14,
   "metadata": {},
   "outputs": [
    {
     "data": {
      "text/plain": [
       "array([[ 105.41730681],\n",
       "       [ 216.66218249],\n",
       "       [ 325.69999562],\n",
       "       [ 435.95100228],\n",
       "       [          nan],\n",
       "       [          nan],\n",
       "       [          nan],\n",
       "       [          nan],\n",
       "       [          nan],\n",
       "       [          nan],\n",
       "       [          nan],\n",
       "       [          nan],\n",
       "       [          nan],\n",
       "       [          nan],\n",
       "       [          nan],\n",
       "       [          nan],\n",
       "       [          nan],\n",
       "       [          nan],\n",
       "       [          nan],\n",
       "       [          nan]])"
      ]
     },
     "execution_count": 14,
     "metadata": {},
     "output_type": "execute_result"
    }
   ],
   "source": [
    "f['strategy_feedback_times']"
   ]
  },
  {
   "cell_type": "code",
   "execution_count": 21,
   "metadata": {},
   "outputs": [
    {
     "data": {
      "text/plain": [
       "array([  67.14877841,  178.73195248,  287.96837339,  398.2051007 ])"
      ]
     },
     "execution_count": 21,
     "metadata": {},
     "output_type": "execute_result"
    }
   ],
   "source": [
    "x = f['trigger_feedback_times']\n",
    "x = x.reshape(-1)\n",
    "x = x[~np.isnan(x)]\n",
    "x"
   ]
  },
  {
   "cell_type": "markdown",
   "metadata": {},
   "source": [
    "### filter participants"
   ]
  },
  {
   "cell_type": "code",
   "execution_count": 5,
   "metadata": {},
   "outputs": [],
   "source": [
    "participants = []\n",
    "for d in os.listdir(data_path):\n",
    "    if os.path.isdir(os.path.join(data_path, d)) and d.startswith(\"19\") and len(d) == 5:\n",
    "        participants.append(d)"
   ]
  },
  {
   "cell_type": "code",
   "execution_count": 22,
   "metadata": {},
   "outputs": [],
   "source": [
    "def get_feedback_times(filename, subject=):\n",
    "    f = loadmat(filename)\n",
    "    strategy_times = f['strategy_feedback_times'].reshape(-1)\n",
    "    trigger_times = f['trigger_feedback_times'].reshape(-1)\n",
    "    return strategy_times[~np.isnan(strategy_times)], trigger_times[~np.isnan(trigger_times)]"
   ]
  },
  {
   "cell_type": "code",
   "execution_count": 16,
   "metadata": {},
   "outputs": [],
   "source": [
    "# picked one\n",
    "for par in participants:    \n",
    "    \n",
    "    timing_file_path = os.path.join(data_path, par, \"timing_files\", \"standard\")\n",
    "#     for f in os.listdir(timing_file_path):\n",
    "#         if \"TRIGGER\" in f or \"STRATEGY\" in f:\n",
    "#             create_feedback_file(f, timing_file_path)"
   ]
  }
 ],
 "metadata": {
  "kernelspec": {
   "display_name": "Python 3",
   "language": "python",
   "name": "python3"
  },
  "language_info": {
   "codemirror_mode": {
    "name": "ipython",
    "version": 3
   },
   "file_extension": ".py",
   "mimetype": "text/x-python",
   "name": "python",
   "nbconvert_exporter": "python",
   "pygments_lexer": "ipython3",
   "version": "3.6.4"
  }
 },
 "nbformat": 4,
 "nbformat_minor": 2
}
