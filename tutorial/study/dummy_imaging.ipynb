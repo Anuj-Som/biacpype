{
 "cells": [
  {
   "cell_type": "code",
   "execution_count": 19,
   "metadata": {},
   "outputs": [],
   "source": [
    "import os"
   ]
  },
  {
   "cell_type": "code",
   "execution_count": 20,
   "metadata": {},
   "outputs": [],
   "source": [
    "def dummy(path):\n",
    "    for f in os.listdir(path):\n",
    "        if f.endswith(\".nii.gz\"):\n",
    "            os.remove(os.path.join(path, f))\n",
    "            cmd = \"touch \" + os.path.join(path, f)\n",
    "            os.system(cmd)"
   ]
  },
  {
   "cell_type": "code",
   "execution_count": 21,
   "metadata": {},
   "outputs": [],
   "source": [
    "def dummy_all():\n",
    "    # anat\n",
    "    anat_paths = list(filter(lambda x: not x.startswith(\".\"), os.listdir(\"./Data/Anat\")))\n",
    "    anat_paths = [os.path.join(\"./Data/Anat\", x) for x in anat_paths]\n",
    "    for p in anat_paths:\n",
    "        dummy(p)\n",
    "    # func\n",
    "    func_paths = list(filter(lambda x: not x.startswith(\".\"), os.listdir(\"./Data/Func\")))\n",
    "    func_paths = [os.path.join(\"./Data/Func\", x) for x in func_paths]\n",
    "    for p in func_paths:\n",
    "        dummy(p)"
   ]
  }
 ],
 "metadata": {
  "kernelspec": {
   "display_name": "Python 3",
   "language": "python",
   "name": "python3"
  },
  "language_info": {
   "codemirror_mode": {
    "name": "ipython",
    "version": 3
   },
   "file_extension": ".py",
   "mimetype": "text/x-python",
   "name": "python",
   "nbconvert_exporter": "python",
   "pygments_lexer": "ipython3",
   "version": "3.6.4"
  }
 },
 "nbformat": 4,
 "nbformat_minor": 2
}
