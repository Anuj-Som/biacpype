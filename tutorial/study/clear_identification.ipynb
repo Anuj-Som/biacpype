{
 "cells": [
  {
   "cell_type": "code",
   "execution_count": 2,
   "metadata": {},
   "outputs": [],
   "source": [
    "import os\n",
    "import xmltodict"
   ]
  },
  {
   "cell_type": "code",
   "execution_count": 31,
   "metadata": {},
   "outputs": [],
   "source": [
    "def clear_identification(path):\n",
    "    for f in os.listdir(path):\n",
    "        if f.endswith(\".bxh\"):\n",
    "            d = xmltodict.parse(open(os.path.join(path, f)).read())\n",
    "            d['bxh']['acquisitiondata']['studyid'] = \"fake\"\n",
    "            d['bxh']['acquisitiondata']['protocolname'] = \"fake\"\n",
    "            d['bxh']['acquisitiondata']['examdescription'] = \"fake\"\n",
    "            if d['bxh'].get('subject', None):\n",
    "                del d['bxh']['subject']\n",
    "            out = xmltodict.unparse(d, pretty=True)\n",
    "            with open(os.path.join(path, f), \"w\") as file_out:\n",
    "                file_out.write(out)"
   ]
  },
  {
   "cell_type": "code",
   "execution_count": 38,
   "metadata": {},
   "outputs": [],
   "source": [
    "def clear_all():\n",
    "    # anat\n",
    "    anat_paths = list(filter(lambda x: not x.startswith(\".\"), os.listdir(\"./Data/Anat\")))\n",
    "    anat_paths = [os.path.join(\"./Data/Anat\", x) for x in anat_paths]\n",
    "    for p in anat_paths:\n",
    "        clear_identification(p)\n",
    "    # func\n",
    "    func_paths = list(filter(lambda x: not x.startswith(\".\"), os.listdir(\"./Data/Func\")))\n",
    "    func_paths = [os.path.join(\"./Data/Func\", x) for x in func_paths]\n",
    "    for p in anat_paths:\n",
    "        clear_identification(p)"
   ]
  },
  {
   "cell_type": "code",
   "execution_count": null,
   "metadata": {},
   "outputs": [],
   "source": []
  }
 ],
 "metadata": {
  "kernelspec": {
   "display_name": "Python 3",
   "language": "python",
   "name": "python3"
  },
  "language_info": {
   "codemirror_mode": {
    "name": "ipython",
    "version": 3
   },
   "file_extension": ".py",
   "mimetype": "text/x-python",
   "name": "python",
   "nbconvert_exporter": "python",
   "pygments_lexer": "ipython3",
   "version": "3.6.4"
  }
 },
 "nbformat": 4,
 "nbformat_minor": 2
}
