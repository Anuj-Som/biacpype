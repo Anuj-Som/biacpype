{
 "cells": [
  {
   "cell_type": "markdown",
   "metadata": {},
   "source": [
    "# `biacpype`\n",
    "\n",
    "Sep 10, 2018. Preston Jiang, Adcock Lab"
   ]
  },
  {
   "cell_type": "markdown",
   "metadata": {},
   "source": [
    "`biacpype` serves as a pipeline to convert fMRI data from BIAC to BIDS format. This tutorial will walk you through the usage of `biacpype`, and some common errors you are likely to encounter.\n",
    "\n",
    "Please check out the slides Preston used at CCN talk or the user manual [here](https://motivatedmemorylab.github.io/biacpype/manual/manual.pdf) for the requirements on datasets and more details."
   ]
  },
  {
   "cell_type": "markdown",
   "metadata": {},
   "source": [
    "## 1. Validation"
   ]
  },
  {
   "cell_type": "markdown",
   "metadata": {},
   "source": [
    "Running validation before the actual conversion is highly recommended for it will catch most of the errors you will run into, with more useful log information.\n",
    "\n",
    "To run the validation script:\n",
    "\n",
    "```python\n",
    "python scripts/validate_biac_study_folder.py study_path\n",
    "```"
   ]
  },
  {
   "cell_type": "markdown",
   "metadata": {},
   "source": [
    "### 1.1 add `biac_id_mapping.tsv` "
   ]
  },
  {
   "cell_type": "code",
   "execution_count": null,
   "metadata": {},
   "outputs": [],
   "source": [
    "%run ../scripts/validate_biac_study_folder.py study"
   ]
  },
  {
   "cell_type": "markdown",
   "metadata": {},
   "source": [
    "The above error states that there's no `biac_id_mapping.tsv` file in study path, which is required by `biacpype`. Let's add that in."
   ]
  },
  {
   "cell_type": "markdown",
   "metadata": {},
   "source": [
    "### 1.2 making sure `Anat` and `Func` have the same folders"
   ]
  },
  {
   "cell_type": "code",
   "execution_count": null,
   "metadata": {},
   "outputs": [],
   "source": [
    "%run ../scripts/validate_biac_study_folder.py study"
   ]
  },
  {
   "cell_type": "markdown",
   "metadata": {},
   "source": [
    "The above error states that `Anat` and `Func` have different folders, which is `{'20150410_19658'}`. Let's remove that."
   ]
  },
  {
   "cell_type": "markdown",
   "metadata": {},
   "source": [
    "### 1.3 making sure `biac_id_mapping.tsv` is valid"
   ]
  },
  {
   "cell_type": "code",
   "execution_count": null,
   "metadata": {},
   "outputs": [],
   "source": [
    "%run ../scripts/validate_biac_study_folder.py study"
   ]
  },
  {
   "cell_type": "markdown",
   "metadata": {},
   "source": [
    "The above error states that `biac_id_mapping.tsv` is invalid. Be careful with the letter cases!"
   ]
  },
  {
   "cell_type": "markdown",
   "metadata": {},
   "source": [
    "### 1.4 `series_order_note.tsv` needs to match file names"
   ]
  },
  {
   "cell_type": "code",
   "execution_count": null,
   "metadata": {},
   "outputs": [],
   "source": [
    "%run ../scripts/validate_biac_study_folder.py study"
   ]
  },
  {
   "cell_type": "markdown",
   "metadata": {},
   "source": [
    "We need to make sure these task codes match!"
   ]
  },
  {
   "cell_type": "markdown",
   "metadata": {},
   "source": [
    "### 1.5 Ready!"
   ]
  },
  {
   "cell_type": "code",
   "execution_count": null,
   "metadata": {},
   "outputs": [],
   "source": [
    "%run ../scripts/validate_biac_study_folder.py study"
   ]
  },
  {
   "cell_type": "markdown",
   "metadata": {},
   "source": [
    "Just to check the log:"
   ]
  },
  {
   "cell_type": "code",
   "execution_count": null,
   "metadata": {},
   "outputs": [],
   "source": [
    "!cat ../biacpype/logs/validation.log"
   ]
  },
  {
   "cell_type": "markdown",
   "metadata": {},
   "source": [
    "## 2. Conversion"
   ]
  },
  {
   "cell_type": "markdown",
   "metadata": {},
   "source": [
    "We are now ready for the actual conversion! To run the script:\n",
    "\n",
    "```python\n",
    "python scripts/validate_biac_study_folder.py study_path json_output_path bids_path log_path\n",
    "```"
   ]
  },
  {
   "cell_type": "code",
   "execution_count": null,
   "metadata": {},
   "outputs": [],
   "source": [
    "%run ../scripts/convert_to_bids.py study study/JSONS study/BIDS study/logs"
   ]
  },
  {
   "cell_type": "markdown",
   "metadata": {},
   "source": [
    "**Uh-oh! Looks like there is an error in `20150404_19636`**. Let's take a closer look at the error message:"
   ]
  },
  {
   "cell_type": "code",
   "execution_count": null,
   "metadata": {},
   "outputs": [],
   "source": [
    "!cat study/logs/*19636* | grep \"ERROR\""
   ]
  },
  {
   "cell_type": "markdown",
   "metadata": {},
   "source": [
    "This is a common error when running `bxh2bids` parts of the pipe. This error message is saying that the pipeline cannot recognize the `description` in the `bxh` file. We need to add this to the **Template File** mentioned in the error messages."
   ]
  },
  {
   "cell_type": "markdown",
   "metadata": {},
   "source": [
    "### try multiple sessions"
   ]
  },
  {
   "cell_type": "markdown",
   "metadata": {},
   "source": [
    "It's super easy to work with multiple-session data, too. Just add the session information into `biac_id_mapping.csv`"
   ]
  },
  {
   "cell_type": "markdown",
   "metadata": {},
   "source": [
    "## 3. BIDS-Validator!"
   ]
  },
  {
   "cell_type": "markdown",
   "metadata": {},
   "source": [
    "After the script exits succesfully, you should check if our BIDS output is valid using the [BIDS Validator](http://incf.github.io/bids-validator/) developed by [INCF](https://www.incf.org/)."
   ]
  },
  {
   "cell_type": "markdown",
   "metadata": {},
   "source": [
    "Warnings are OK, though Errors are not! (here, our error is because the `nii.gz` files we used here are empty file holders instead of actual imaging files.)"
   ]
  },
  {
   "cell_type": "code",
   "execution_count": 1,
   "metadata": {},
   "outputs": [
    {
     "name": "stderr",
     "output_type": "stream",
     "text": [
      "Failed to import duecredit due to No module named 'duecredit'\n"
     ]
    }
   ],
   "source": [
    "from bids.layout import BIDSLayout"
   ]
  },
  {
   "cell_type": "code",
   "execution_count": 2,
   "metadata": {},
   "outputs": [],
   "source": [
    "layout = BIDSLayout(\"/Volumes/lpjiang/Documents/CBT.01-copy/bids-try/\")"
   ]
  },
  {
   "cell_type": "code",
   "execution_count": 3,
   "metadata": {},
   "outputs": [
    {
     "data": {
      "text/plain": [
       "['101',\n",
       " '102',\n",
       " '103',\n",
       " '104',\n",
       " '105',\n",
       " '106',\n",
       " '107',\n",
       " '108',\n",
       " '109',\n",
       " '111',\n",
       " '112',\n",
       " '113',\n",
       " '114']"
      ]
     },
     "execution_count": 3,
     "metadata": {},
     "output_type": "execute_result"
    }
   ],
   "source": [
    "layout.get_subjects()"
   ]
  },
  {
   "cell_type": "code",
   "execution_count": 4,
   "metadata": {},
   "outputs": [
    {
     "data": {
      "text/plain": [
       "['LOCALIZER', 'REST', 'TRAIN']"
      ]
     },
     "execution_count": 4,
     "metadata": {},
     "output_type": "execute_result"
    }
   ],
   "source": [
    "layout.get_tasks()"
   ]
  },
  {
   "cell_type": "code",
   "execution_count": 13,
   "metadata": {},
   "outputs": [],
   "source": [
    "f = layout.get(task=\"REST\", run=1)[0].filename"
   ]
  },
  {
   "cell_type": "code",
   "execution_count": 14,
   "metadata": {},
   "outputs": [
    {
     "data": {
      "text/plain": [
       "{'DeviceSerialNumber': '0000000919684MR5',\n",
       " 'EchoTime': 0.028,\n",
       " 'EffectiveEchoSpacing': 468.0,\n",
       " 'FlipAngle': 90,\n",
       " 'InstitutionName': 'Duke Univ Hosp MR5',\n",
       " 'MagneticFieldStrength': 3.0,\n",
       " 'Manufacturer': 'GE MEDICAL SYSTEMS',\n",
       " 'ManufacturersModelName': 'DISCOVERY MR750',\n",
       " 'NumberOfVolumesDiscardedByScanner': 0,\n",
       " 'PulseSequenceType': 'fMRI 308 resting',\n",
       " 'ReceiveCoilName': '8HRBRAIN',\n",
       " 'RepetitionTime': 1.0,\n",
       " 'SliceTiming': [0.0,\n",
       "  0.5,\n",
       "  0.05555555555555555,\n",
       "  0.5555555555555556,\n",
       "  0.1111111111111111,\n",
       "  0.611111111111111,\n",
       "  0.16666666666666666,\n",
       "  0.6666666666666666,\n",
       "  0.2222222222222222,\n",
       "  0.7222222222222222,\n",
       "  0.2777777777777778,\n",
       "  0.7777777777777777,\n",
       "  0.3333333333333333,\n",
       "  0.8333333333333333,\n",
       "  0.38888888888888884,\n",
       "  0.8888888888888888,\n",
       "  0.4444444444444444,\n",
       "  0.9444444444444444],\n",
       " 'SoftwareVersions': '24',\n",
       " 'TaskName': 'REST'}"
      ]
     },
     "execution_count": 14,
     "metadata": {},
     "output_type": "execute_result"
    }
   ],
   "source": [
    "layout.get_metadata(f)"
   ]
  },
  {
   "cell_type": "code",
   "execution_count": null,
   "metadata": {},
   "outputs": [],
   "source": []
  }
 ],
 "metadata": {
  "kernelspec": {
   "display_name": "Python 3",
   "language": "python",
   "name": "python3"
  },
  "language_info": {
   "codemirror_mode": {
    "name": "ipython",
    "version": 3
   },
   "file_extension": ".py",
   "mimetype": "text/x-python",
   "name": "python",
   "nbconvert_exporter": "python",
   "pygments_lexer": "ipython3",
   "version": "3.6.4"
  }
 },
 "nbformat": 4,
 "nbformat_minor": 2
}
