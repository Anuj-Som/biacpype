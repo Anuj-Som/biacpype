{
 "cells": [
  {
   "cell_type": "markdown",
   "metadata": {},
   "source": [
    "# Biacpype"
   ]
  },
  {
   "cell_type": "markdown",
   "metadata": {},
   "source": [
    "`biacpype` serves as a pipeline to convert fMRI data from BIAC to BIDS format. This tutorial will walk you through the usage of `biacpype`, and some common errors you are likely to encounter.\n",
    "\n",
    "Please check out the slides Preston used at CCN talk or the user manual [here](https://motivatedmemorylab.github.io/biacpype/manual/manual.pdf) for the requirements on datasets and more details."
   ]
  },
  {
   "cell_type": "markdown",
   "metadata": {},
   "source": [
    "## 1. Validation"
   ]
  },
  {
   "cell_type": "markdown",
   "metadata": {},
   "source": [
    "Running validation before the actual conversion is highly recommended for it will catch most of the errors you will run into, with more useful log information.\n",
    "\n",
    "To run the validation script:\n",
    "\n",
    "```python\n",
    "python scripts/validate_biac_study_folder.py study_path\n",
    "```"
   ]
  },
  {
   "cell_type": "code",
   "execution_count": 28,
   "metadata": {},
   "outputs": [
    {
     "name": "stderr",
     "output_type": "stream",
     "text": [
      "INFO:validation.log:Start validation...\n",
      "INFO:/Users/lpjiang/Research/biacpype/scripts/../biacpype/util/../logs/validation.log:basic_structrue OK!\n",
      "INFO:/Users/lpjiang/Research/biacpype/scripts/../biacpype/util/../logs/validation.log:biac_id_mapping_file OK!\n",
      "INFO:/Users/lpjiang/Research/biacpype/scripts/../biacpype/util/../logs/validation.log:series_order_note_file OK!\n",
      "INFO:/Users/lpjiang/Research/biacpype/scripts/../biacpype/util/../logs/validation.log:series_order_note_file OK!\n",
      "INFO:/Users/lpjiang/Research/biacpype/scripts/../biacpype/util/../logs/validation.log:series_order_note_file OK!\n",
      "INFO:/Users/lpjiang/Research/biacpype/scripts/../biacpype/util/../logs/validation.log:series_order_note_file OK!\n",
      "INFO:/Users/lpjiang/Research/biacpype/scripts/../biacpype/util/../logs/validation.log:series_order_note_file OK!\n",
      "INFO:/Users/lpjiang/Research/biacpype/scripts/../biacpype/util/../logs/validation.log:series_order_note_file OK!\n",
      "INFO:/Users/lpjiang/Research/biacpype/scripts/../biacpype/util/../logs/validation.log:data_folder_file_matching OK!\n",
      "INFO:/Users/lpjiang/Research/biacpype/scripts/../biacpype/util/../logs/validation.log:data_folder_file_matching OK!\n"
     ]
    },
    {
     "name": "stdout",
     "output_type": "stream",
     "text": [
      "\n",
      "Your study path passed validation! You are now ready for conversion\n"
     ]
    }
   ],
   "source": [
    "%run ../scripts/validate_biac_study_folder.py ./study"
   ]
  },
  {
   "cell_type": "code",
   "execution_count": null,
   "metadata": {},
   "outputs": [],
   "source": []
  }
 ],
 "metadata": {
  "kernelspec": {
   "display_name": "Python 3",
   "language": "python",
   "name": "python3"
  },
  "language_info": {
   "codemirror_mode": {
    "name": "ipython",
    "version": 3
   },
   "file_extension": ".py",
   "mimetype": "text/x-python",
   "name": "python",
   "nbconvert_exporter": "python",
   "pygments_lexer": "ipython3",
   "version": "3.6.4"
  }
 },
 "nbformat": 4,
 "nbformat_minor": 2
}
